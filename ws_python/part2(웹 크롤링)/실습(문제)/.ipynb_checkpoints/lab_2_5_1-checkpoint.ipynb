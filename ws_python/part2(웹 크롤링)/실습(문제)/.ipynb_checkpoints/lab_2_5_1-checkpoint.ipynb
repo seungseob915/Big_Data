{
 "cells": [
  {
   "cell_type": "code",
   "execution_count": 3,
   "metadata": {
    "colab": {},
    "colab_type": "code",
    "id": "whJDPdCop6oD"
   },
   "outputs": [
    {
     "name": "stdout",
     "output_type": "stream",
     "text": [
      "['13181', '285', '11914']\n"
     ]
    }
   ],
   "source": [
    "message = \"\"\" 대한민국 코로나 확진자는 13181명, 사망자는 285명, 완치자는 11914명입니다. \"\"\"\n",
    "\n",
    "# 문제:  정규 표현식을 이용하여 message 변수에서 숫자만 추출하여 출력 \n",
    "\n",
    "import re\n",
    "re_test=re.compile('[0-9]+')\n",
    "re_test.findall(message)"
   ]
  },
  {
   "cell_type": "code",
   "execution_count": null,
   "metadata": {},
   "outputs": [],
   "source": []
  }
 ],
 "metadata": {
  "colab": {
   "name": "lab_2_5_1.ipynb",
   "provenance": []
  },
  "kernelspec": {
   "display_name": "Python 3",
   "language": "python",
   "name": "python3"
  },
  "language_info": {
   "codemirror_mode": {
    "name": "ipython",
    "version": 3
   },
   "file_extension": ".py",
   "mimetype": "text/x-python",
   "name": "python",
   "nbconvert_exporter": "python",
   "pygments_lexer": "ipython3",
   "version": "3.8.3"
  }
 },
 "nbformat": 4,
 "nbformat_minor": 1
}
