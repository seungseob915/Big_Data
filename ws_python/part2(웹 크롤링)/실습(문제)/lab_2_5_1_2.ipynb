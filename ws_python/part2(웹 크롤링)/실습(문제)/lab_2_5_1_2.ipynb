{
 "cells": [
  {
   "cell_type": "code",
   "execution_count": 7,
   "metadata": {},
   "outputs": [
    {
     "ename": "AttributeError",
     "evalue": "'bytes' object has no attribute 'read'",
     "output_type": "error",
     "traceback": [
      "\u001b[1;31m---------------------------------------------------------------------------\u001b[0m",
      "\u001b[1;31mAttributeError\u001b[0m                            Traceback (most recent call last)",
      "\u001b[1;32m<ipython-input-7-52ac065de2e3>\u001b[0m in \u001b[0;36m<module>\u001b[1;34m\u001b[0m\n\u001b[0;32m     26\u001b[0m \u001b[1;31m#print('encoding:', encoding, file=sys.stderr)\u001b[0m\u001b[1;33m\u001b[0m\u001b[1;33m\u001b[0m\u001b[1;33m\u001b[0m\u001b[0m\n\u001b[0;32m     27\u001b[0m \u001b[1;33m\u001b[0m\u001b[0m\n\u001b[1;32m---> 28\u001b[1;33m \u001b[0mtext\u001b[0m\u001b[1;33m=\u001b[0m\u001b[0mbytes_content\u001b[0m\u001b[1;33m.\u001b[0m\u001b[0mread\u001b[0m\u001b[1;33m(\u001b[0m\u001b[1;33m)\u001b[0m\u001b[1;33m.\u001b[0m\u001b[0mdecode\u001b[0m\u001b[1;33m(\u001b[0m\u001b[0mencoding\u001b[0m\u001b[1;33m)\u001b[0m\u001b[1;33m\u001b[0m\u001b[1;33m\u001b[0m\u001b[0m\n\u001b[0m\u001b[0;32m     29\u001b[0m \u001b[0mprint\u001b[0m\u001b[1;33m(\u001b[0m\u001b[0mtext\u001b[0m\u001b[1;33m)\u001b[0m\u001b[1;33m\u001b[0m\u001b[1;33m\u001b[0m\u001b[0m\n\u001b[0;32m     30\u001b[0m \u001b[1;33m\u001b[0m\u001b[0m\n",
      "\u001b[1;31mAttributeError\u001b[0m: 'bytes' object has no attribute 'read'"
     ]
    }
   ],
   "source": [
    "# 다음은 네이버 영화 평 url입니다. \n",
    "\n",
    "naver_url=\"https://movie.naver.com/movie/point/af/list.nhn\"  \n",
    "\n",
    "# 다음 url 요청 결과 받은 html을 다음과 같이 파싱하세요. \n",
    "\n",
    "# 1. 영화제목을 추출(정규표현식이용)하여  출력 \n",
    "\n",
    "import re\n",
    "import sys\n",
    "from html import unescape\n",
    "from urllib.request import urlopen\n",
    "\n",
    "uo=urlopen(naver_url)\n",
    "#bytes_content=uo.read()\n",
    "encoding = uo. info() .get_content_charset(failobj=\"utf-8\")\n",
    "\n",
    "#scanned_text=bytes_content[:1024].decode('ascii', errors='replace')\n",
    "#match=re.search('charset=[\"\\']?([\\w-]+)', scanned_text)\n",
    "\n",
    "#if match:\n",
    "#    encoding =match.group(1)\n",
    "#else:\n",
    "#    encoding='utf-8'\n",
    "    \n",
    "#print('encoding:', encoding, file=sys.stderr)\n",
    "\n",
    "text=bytes_content.read.decode(encoding)\n",
    "print(text)\n",
    "\n",
    "    # 이전 절에서 다운로드한 파일을 열고 html이라는 변수에 저장\n",
    "#with open('ex.html', encoding=encoding) as f:\n",
    "#    html = f.read()    #통째로 한번에 다 읽음\n",
    "\n",
    "for partial_html in re.findall(r'<td class=\"title\">.*<a.*?</a>', text, re.DOTALL):\n",
    "    print(\"--------------------------------------------------------------\\n\")\n",
    "    print(partial_html)\n"
   ]
  },
  {
   "cell_type": "code",
   "execution_count": null,
   "metadata": {},
   "outputs": [],
   "source": []
  }
 ],
 "metadata": {
  "kernelspec": {
   "display_name": "Python 3",
   "language": "python",
   "name": "python3"
  },
  "language_info": {
   "codemirror_mode": {
    "name": "ipython",
    "version": 3
   },
   "file_extension": ".py",
   "mimetype": "text/x-python",
   "name": "python",
   "nbconvert_exporter": "python",
   "pygments_lexer": "ipython3",
   "version": "3.8.3"
  }
 },
 "nbformat": 4,
 "nbformat_minor": 2
}
