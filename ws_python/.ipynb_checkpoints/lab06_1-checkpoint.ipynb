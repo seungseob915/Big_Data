{
 "cells": [
  {
   "cell_type": "code",
   "execution_count": 2,
   "metadata": {},
   "outputs": [
    {
     "name": "stdout",
     "output_type": "stream",
     "text": [
      "홍길동의 성적합은 190이고 평균은 95입니다.\n",
      "김영희의 성적합은 200이고 평균은 100입니다.\n"
     ]
    }
   ],
   "source": [
    "data = [ \"홍길동\", [90, 100],\n",
    "         \"김영희\", [100,100]  ] \n",
    "\n",
    "길동_점수=data[1]\n",
    "영희_점수=data[3]\n",
    "\n",
    "길동합=0\n",
    "영희합=0\n",
    "\n",
    "for i in range(0, 2):\n",
    "    길동합+=길동_점수[i]\n",
    "    영희합+=영희_점수[i]\n",
    "    \n",
    "print(\"%s의 성적합은 %d이고 평균은 %d입니다.\"%(data[0],길동합, int(길동합/2)))\n",
    "print(\"%s의 성적합은 %d이고 평균은 %d입니다.\"%(data[2], 영희합, int(영희합/2)))"
   ]
  }
 ],
 "metadata": {
  "kernelspec": {
   "display_name": "Python 3",
   "language": "python",
   "name": "python3"
  },
  "language_info": {
   "codemirror_mode": {
    "name": "ipython",
    "version": 3
   },
   "file_extension": ".py",
   "mimetype": "text/x-python",
   "name": "python",
   "nbconvert_exporter": "python",
   "pygments_lexer": "ipython3",
   "version": "3.8.3"
  }
 },
 "nbformat": 4,
 "nbformat_minor": 4
}
