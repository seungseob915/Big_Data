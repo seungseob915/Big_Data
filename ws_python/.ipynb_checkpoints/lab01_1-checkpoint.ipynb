{
 "cells": [
  {
   "cell_type": "code",
   "execution_count": 5,
   "metadata": {},
   "outputs": [
    {
     "name": "stdout",
     "output_type": "stream",
     "text": [
      "1000\n",
      "1000원은 1117.50$입니다.\n"
     ]
    }
   ],
   "source": [
    "환율=1117.50\n",
    "금액= int(input())\n",
    "총액=(환율/1000)*금액\n",
    "print(\"%d원은 %7.2f$입니다.\" %(금액, 총액))"
   ]
  },
  {
   "cell_type": "code",
   "execution_count": null,
   "metadata": {},
   "outputs": [],
   "source": []
  }
 ],
 "metadata": {
  "kernelspec": {
   "display_name": "Python 3",
   "language": "python",
   "name": "python3"
  }
 },
 "nbformat": 4,
 "nbformat_minor": 4
}
