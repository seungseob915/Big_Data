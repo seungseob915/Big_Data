{
 "cells": [
  {
   "cell_type": "code",
   "execution_count": 9,
   "metadata": {},
   "outputs": [
    {
     "name": "stdout",
     "output_type": "stream",
     "text": [
      "['홍길동'] 의 평균 점수는 80\n",
      "['김영희'] 의 평균 점수는 90\n"
     ]
    }
   ],
   "source": [
    "import re\n",
    "\n",
    "data1=\"홍길동:80:90:70\"\n",
    "data2=\"김영희:90:90:90\"\n",
    "\n",
    "이름_정규식='[가-힣]{3}'\n",
    "이름_패턴=re.compile(이름_정규식)\n",
    "\n",
    "점수_정규식='\\\\d{1,3}'\n",
    "점수_패턴=re.compile(점수_정규식)\n",
    "\n",
    "\n",
    "학생1_이름=이름_패턴.findall(data1)\n",
    "학생1_점수=점수_패턴.findall(data1)\n",
    "학생1_평균=0\n",
    "\n",
    "학생2_이름=이름_패턴.findall(data2)\n",
    "학생2_점수=점수_패턴.findall(data2)\n",
    "학생2_평균=0\n",
    "\n",
    "for i in range(0,3):\n",
    "    학생1_평균+=int(학생1_점수[i])\n",
    "    학생2_평균+=int(학생2_점수[i])\n",
    "    \n",
    "학생1_평균/=3\n",
    "학생2_평균/=3\n",
    "\n",
    "print(\"{} 의 평균 점수는 {:d}\".format(학생1_이름, int(학생1_평균)))\n",
    "print(\"{} 의 평균 점수는 {:d}\".format(학생2_이름, int(학생2_평균)))"
   ]
  },
  {
   "cell_type": "code",
   "execution_count": null,
   "metadata": {},
   "outputs": [],
   "source": []
  }
 ],
 "metadata": {
  "kernelspec": {
   "display_name": "Python 3",
   "language": "python",
   "name": "python3"
  },
  "language_info": {
   "codemirror_mode": {
    "name": "ipython",
    "version": 3
   },
   "file_extension": ".py",
   "mimetype": "text/x-python",
   "name": "python",
   "nbconvert_exporter": "python",
   "pygments_lexer": "ipython3",
   "version": "3.8.3"
  }
 },
 "nbformat": 4,
 "nbformat_minor": 4
}
