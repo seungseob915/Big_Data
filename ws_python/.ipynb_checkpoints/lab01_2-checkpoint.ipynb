{
 "cells": [
  {
   "cell_type": "code",
   "execution_count": 32,
   "metadata": {
    "scrolled": false
   },
   "outputs": [
    {
     "name": "stdout",
     "output_type": "stream",
     "text": [
      "홍길동\n",
      "100\n",
      "90\n",
      "홍길동의 성적합은 190이고 평균은 95입니다.\n"
     ]
    }
   ],
   "source": [
    "이름=input()\n",
    "영어성적=input()\n",
    "수학성적=input()\n",
    "총_성적=int(영어성적)+int(수학성적)\n",
    "평균=총_성적 / 2\n",
    "print(\"{}의 성적합은 {:d}이고 평균은 {:d}입니다.\".format(이름, int(총_성적), int(평균)))"
   ]
  },
  {
   "cell_type": "code",
   "execution_count": null,
   "metadata": {},
   "outputs": [],
   "source": []
  }
 ],
 "metadata": {
  "kernelspec": {
   "display_name": "Python 3",
   "language": "python",
   "name": "python3"
  },
  "language_info": {
   "codemirror_mode": {
    "name": "ipython",
    "version": 3
   },
   "file_extension": ".py",
   "mimetype": "text/x-python",
   "name": "python",
   "nbconvert_exporter": "python",
   "pygments_lexer": "ipython3",
   "version": "3.8.3"
  }
 },
 "nbformat": 4,
 "nbformat_minor": 4
}
