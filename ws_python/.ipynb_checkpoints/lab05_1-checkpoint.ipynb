{
 "cells": [
  {
   "cell_type": "code",
   "execution_count": 18,
   "metadata": {},
   "outputs": [
    {
     "name": "stdout",
     "output_type": "stream",
     "text": [
      "['서울', '부산', '대구', '인천', '천안']\n",
      "['서울', '부산', '대구', '인천', '천안', '아산']\n",
      "['부산', '대구', '인천', '천안', '아산']\n",
      "['부산', '인천', '천안', '아산']\n",
      "['부산', '아산', '인천', '천안']\n",
      "['천안', '인천', '아산', '부산']\n"
     ]
    },
    {
     "data": {
      "text/plain": [
       "2"
      ]
     },
     "execution_count": 18,
     "metadata": {},
     "output_type": "execute_result"
    }
   ],
   "source": [
    "data = [ \"서울\",\"부산\",\"대구\",\"인천\"]\n",
    "\n",
    "data.append(\"천안\")\n",
    "print(data)\n",
    "\n",
    "data.append(\"아산\")\n",
    "print(data)\n",
    "\n",
    "data.pop(0)\n",
    "print(data)\n",
    "\n",
    "data.remove(\"대구\")\n",
    "print(data)\n",
    "\n",
    "data.sort()\n",
    "print(data)\n",
    "\n",
    "data.reverse()\n",
    "print(data)\n",
    "\n",
    "data.index(\"아산\")"
   ]
  },
  {
   "cell_type": "code",
   "execution_count": null,
   "metadata": {},
   "outputs": [],
   "source": []
  }
 ],
 "metadata": {
  "kernelspec": {
   "display_name": "Python 3",
   "language": "python",
   "name": "python3"
  },
  "language_info": {
   "codemirror_mode": {
    "name": "ipython",
    "version": 3
   },
   "file_extension": ".py",
   "mimetype": "text/x-python",
   "name": "python",
   "nbconvert_exporter": "python",
   "pygments_lexer": "ipython3",
   "version": "3.8.3"
  }
 },
 "nbformat": 4,
 "nbformat_minor": 4
}
