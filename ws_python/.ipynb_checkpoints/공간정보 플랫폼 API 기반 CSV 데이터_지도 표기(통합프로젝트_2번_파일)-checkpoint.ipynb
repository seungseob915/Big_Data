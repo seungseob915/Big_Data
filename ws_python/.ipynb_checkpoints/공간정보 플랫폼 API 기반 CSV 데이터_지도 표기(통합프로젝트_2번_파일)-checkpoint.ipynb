{
 "cells": [
  {
   "cell_type": "code",
   "execution_count": null,
   "metadata": {},
   "outputs": [],
   "source": [
    "# http://www.vworld.kr/dev/v4api.do (공간정보 오픈 플랫폼)\n",
    "import pandas as pd\n",
    "import folium\n",
    "import urllib\n",
    "import json\n",
    "import re\n",
    "import requests\n",
    "from pyproj import Proj,transform\n",
    "#스타벅스 csv파일을 연다\n",
    "data1 = pd.read_csv('starbucks_loc.csv', encoding='utf-8')\n",
    "\n",
    "# csv파일에 none값을 제거해준다.\n",
    "data = data1.dropna()\n",
    "\n",
    "#스타벅스 매장의 도로명 주소를 리스트 형식으로 받는다.\n",
    "titledata = list(map(str,data['도로명전체주소'].tolist()))\n",
    "\n",
    "# 오픈 api를 쉽게 이용하기 위해 html과 ID 를 미리 만들어 놓는다.\n",
    "html = 'http://map.vworld.kr/search.do?category=juso&q='\n",
    "ID = '&pageunit=10&output=json&pageindex=1&apiKey=\"본인 KEY 입력\"'\n",
    "\n",
    "# 지도에 매장의 위치를 보여주기 위해 folium을 사용한다.\n",
    "m = folium.Map(location=[37.574665, 126.889048],zoom_start=15)\n",
    "\n",
    "# 매장 수 만큼 for문을 반복한다.\n",
    "for i in range(len(titledata)):\n",
    "    #정규 표현식을 이용하여 도로명 주소의 필요없는 부분을 제거한다.\n",
    "    try : Title = re.search(r'.*?[\\(,]',titledata[i]).group(0)\n",
    "    except Exception as e:\n",
    "        continue\n",
    "    Title = re.sub(r'[,\\(]','',Title)\n",
    "\n",
    "    #requests를 이용하여 오픈 api에서 원하는 값을 가져온다.\n",
    "    r = requests.get(html+urllib.parse.quote(Title)+ID)\n",
    "    #데이터를 json_data 변수에 저장한다.(json형식)\n",
    "    json_data = r.json()\n",
    "    #데이터에서 LIST 의 목록을 찾는다.\n",
    "    try: a = json_data['LIST']\n",
    "    except Exception as e:\n",
    "        continue\n",
    "\n",
    "    #LIST 목록에서 위도와 경도의 값을 추출한다.\n",
    "    try : x = (a[0]['xpos'])\n",
    "    except Exception as e:\n",
    "        continue\n",
    "    y = (a[0]['ypos'])\n",
    "\n",
    "    # 추출한 위도와 경도를 이용하여 지도에 표시를 한다.\n",
    "    folium.Marker(location = [y,x],popup='스타벅스',icon=folium.Icon(color='red',icon='star')).add_to(m)\n",
    "    #과정이 진행되는지 확인하기 위해 위도와 경도를 출력한다.\n",
    "    print(x,y)\n",
    "\n",
    "# 표시가 다 끝났으면 map3.html에 지도를 저장한다.\n",
    "m.save('map3.html')"
   ]
  }
 ],
 "metadata": {
  "kernelspec": {
   "display_name": "Python 3",
   "language": "python",
   "name": "python3"
  },
  "language_info": {
   "codemirror_mode": {
    "name": "ipython",
    "version": 3
   },
   "file_extension": ".py",
   "mimetype": "text/x-python",
   "name": "python",
   "nbconvert_exporter": "python",
   "pygments_lexer": "ipython3",
   "version": "3.8.3"
  }
 },
 "nbformat": 4,
 "nbformat_minor": 4
}
