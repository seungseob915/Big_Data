{
 "cells": [
  {
   "cell_type": "code",
   "execution_count": 12,
   "metadata": {},
   "outputs": [
    {
     "name": "stdout",
     "output_type": "stream",
     "text": [
      "홍길동\n",
      "김영희\n",
      "서울\n",
      "부산\n",
      "01012341111\n",
      "01022223333\n",
      "[90, 90, 80]\n",
      "[80, 70, 100]\n",
      "90\n",
      "80\n"
     ]
    }
   ],
   "source": [
    "data=[['홍길동',['서울',['02-567-1234','01012341111']], [90,90,80]],\n",
    "         ['김영희',['부산',['02-567-1234','01022223333']], [80,70,100]]] \n",
    "\n",
    "#이름만 출력\n",
    "print(data[0][0])\n",
    "print(data[1][0])\n",
    "\n",
    "#주소만 출력\n",
    "print(data[0][1][0])\n",
    "print(data[1][1][0])\n",
    "\n",
    "#핸드폰 번호만 출력\n",
    "print(data[0][1][1][1])\n",
    "print(data[1][1][1][1])\n",
    "\n",
    "#점수만 출력\n",
    "print(data[0][2])\n",
    "print(data[1][2])\n",
    "\n",
    "#첫번째 점수만 출력\n",
    "print(data[0][2][0])\n",
    "print(data[1][2][0])\n"
   ]
  },
  {
   "cell_type": "code",
   "execution_count": null,
   "metadata": {},
   "outputs": [],
   "source": []
  }
 ],
 "metadata": {
  "kernelspec": {
   "display_name": "Python 3",
   "language": "python",
   "name": "python3"
  },
  "language_info": {
   "codemirror_mode": {
    "name": "ipython",
    "version": 3
   },
   "file_extension": ".py",
   "mimetype": "text/x-python",
   "name": "python",
   "nbconvert_exporter": "python",
   "pygments_lexer": "ipython3",
   "version": "3.8.3"
  }
 },
 "nbformat": 4,
 "nbformat_minor": 4
}
