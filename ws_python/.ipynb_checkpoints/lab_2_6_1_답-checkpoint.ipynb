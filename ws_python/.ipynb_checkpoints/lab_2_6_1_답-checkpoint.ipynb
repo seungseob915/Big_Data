{
 "cells": [
  {
   "cell_type": "code",
   "execution_count": 10,
   "metadata": {},
   "outputs": [],
   "source": [
    "dic_data = { \"홍길동\" :'010-1234-1234', \n",
    "             \"박철수\" :'010-1111-2222'  }\n",
    "\n",
    "# 문제 : dic_data 의 내용을 csv 파일로 저장"
   ]
  },
  {
   "cell_type": "code",
   "execution_count": 15,
   "metadata": {},
   "outputs": [
    {
     "name": "stdout",
     "output_type": "stream",
     "text": [
      "홍길동 010-1234-1234\n",
      "박철수 010-1111-2222\n"
     ]
    }
   ],
   "source": [
    "import csv\n",
    "with open('lab_2_6_1.csv', 'w', newline='' , encoding=\"utf-8\"   ) as f:\n",
    "    writer = csv.DictWriter(f, ['name', 'tel' ])\n",
    "    \n",
    "    for n, value in dic_data.items() :\n",
    "        print(n, value)\n",
    "        writer.writerows( [ {'name':  n , 'tel': value }  ])\n",
    "    "
   ]
  },
  {
   "cell_type": "code",
   "execution_count": null,
   "metadata": {},
   "outputs": [],
   "source": []
  }
 ],
 "metadata": {
  "kernelspec": {
   "display_name": "Python 3",
   "language": "python",
   "name": "python3"
  },
  "language_info": {
   "codemirror_mode": {
    "name": "ipython",
    "version": 3
   },
   "file_extension": ".py",
   "mimetype": "text/x-python",
   "name": "python",
   "nbconvert_exporter": "python",
   "pygments_lexer": "ipython3",
   "version": "3.8.3"
  }
 },
 "nbformat": 4,
 "nbformat_minor": 2
}
