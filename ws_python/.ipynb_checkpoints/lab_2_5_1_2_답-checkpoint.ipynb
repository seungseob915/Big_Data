{
 "cells": [
  {
   "cell_type": "code",
   "execution_count": null,
   "metadata": {
    "colab": {},
    "colab_type": "code",
    "id": "V6YJ9vD3AiA0"
   },
   "outputs": [],
   "source": [
    "# 다음은 네이버 영화 평 url입니다. \n",
    "naver_url=\"https://movie.naver.com/movie/point/af/list.nhn\"  \n",
    "\n",
    "from urllib.request import urlopen \n",
    "response = urlopen(naver_url) \n",
    "encoding = response. info() .get_content_charset(failobj=\"utf-8\")\n",
    "html = response.read().decode(encoding)"
   ]
  },
  {
   "cell_type": "code",
   "execution_count": null,
   "metadata": {
    "colab": {
     "base_uri": "https://localhost:8080/",
     "height": 192
    },
    "colab_type": "code",
    "executionInfo": {
     "elapsed": 594,
     "status": "ok",
     "timestamp": 1596788748069,
     "user": {
      "displayName": "Jungin Lee",
      "photoUrl": "https://lh3.googleusercontent.com/a-/AOh14GjP_CFmTa5aBKSliCROOnGkQTW_SxKjoswxuP8QPA=s64",
      "userId": "15449047399293082265"
     },
     "user_tz": -540
    },
    "id": "T9QcxIj6AiBA",
    "outputId": "e72b8b03-c010-496e-98de-ae40a8a5e357"
   },
   "outputs": [
    {
     "name": "stdout",
     "output_type": "stream",
     "text": [
      "영화제목= 강철비2\n",
      "영화제목= 다만 악에서 구하소서\n",
      "영화제목= 강철비2\n",
      "영화제목= 트랜짓\n",
      "영화제목= 다만 악에서 구하소서\n",
      "영화제목= 다만 악에서 구하소서\n",
      "영화제목= 강철비2\n",
      "영화제목= 온다\n",
      "영화제목= 다만 악에서 구하소서\n",
      "영화제목= 불량한 가족\n"
     ]
    }
   ],
   "source": [
    "# 다음 url 요청 결과 받은 html을 다음과 같이 파싱하세요. \n",
    "# 영화 제목을 추출(정규표현식이용)하여  출력 \n",
    "import re\n",
    "\n",
    "result2 = re.findall('<td class=\"title\">[()<>?\"\\'#\\,_;*\\-/%:~&\\\\s\\\\w=. &#34]+',html)\n",
    "for result in result2 :\n",
    "    r = re.findall('\"movie color_b\">[\\w가-힣 ]+',result) \n",
    "    for title in r:\n",
    "        print(\"영화제목=\", title[16:]) "
   ]
  },
  {
   "cell_type": "code",
   "execution_count": null,
   "metadata": {
    "colab": {},
    "colab_type": "code",
    "id": "2y3KsG6TAiBJ"
   },
   "outputs": [],
   "source": []
  }
 ],
 "metadata": {
  "colab": {
   "collapsed_sections": [],
   "name": "lab_2_5_1_2_답.ipynb",
   "provenance": []
  },
  "kernelspec": {
   "display_name": "Python 3",
   "language": "python",
   "name": "python3"
  },
  "language_info": {
   "codemirror_mode": {
    "name": "ipython",
    "version": 3
   },
   "file_extension": ".py",
   "mimetype": "text/x-python",
   "name": "python",
   "nbconvert_exporter": "python",
   "pygments_lexer": "ipython3",
   "version": "3.8.3"
  }
 },
 "nbformat": 4,
 "nbformat_minor": 1
}
