{
 "cells": [
  {
   "cell_type": "code",
   "execution_count": 6,
   "metadata": {},
   "outputs": [
    {
     "name": "stdout",
     "output_type": "stream",
     "text": [
      "찾아볼 위치 키워드 : \n",
      "상암동\n",
      "HTTP method : GET\n",
      "Request URL : https://dapi.kakao.com/v2/local/search/keyword.json?\n",
      "Headers: {'Authorization': 'c2f7af5ee06e05c4c29934e761a9b5c3'}\n",
      "QureryString : 상암동\n",
      "response status: \n",
      "401\n",
      "response header: \n",
      "{'Server': 'nginx', 'Date': 'Tue, 11 Aug 2020 01:25:26 GMT', 'Content-Type': 'application/json;charset=UTF-8', 'Transfer-Encoding': 'chunked', 'Connection': 'keep-alive', 'X-Request-Id': '88bb38e0-db71-11ea-a4c9-dbf1e880c0c7', 'Access-Control-Allow-Origin': '*', 'Access-Control-Allow-Methods': 'GET, OPTIONS', 'Access-Control-Allow-Headers': 'Authorization, KA, Origin, X-Requested-With, Content-Type, Accept'}\n",
      "response body: \n",
      "{\"errorType\":\"AccessDeniedError\",\"message\":\"cannot find Authorization : KakaoAK header\"}\n"
     ]
    },
    {
     "ename": "KeyError",
     "evalue": "'documents'",
     "output_type": "error",
     "traceback": [
      "\u001b[1;31m---------------------------------------------------------------------------\u001b[0m",
      "\u001b[1;31mKeyError\u001b[0m                                  Traceback (most recent call last)",
      "\u001b[1;32m<ipython-input-6-2f8ed7423702>\u001b[0m in \u001b[0;36m<module>\u001b[1;34m\u001b[0m\n\u001b[0;32m     40\u001b[0m     \u001b[0mjson_data\u001b[0m \u001b[1;33m=\u001b[0m \u001b[0mjson\u001b[0m\u001b[1;33m.\u001b[0m\u001b[0mload\u001b[0m\u001b[1;33m(\u001b[0m\u001b[0mjson_file\u001b[0m\u001b[1;33m)\u001b[0m\u001b[1;33m\u001b[0m\u001b[1;33m\u001b[0m\u001b[0m\n\u001b[0;32m     41\u001b[0m \u001b[1;33m\u001b[0m\u001b[0m\n\u001b[1;32m---> 42\u001b[1;33m     \u001b[0mjson_document\u001b[0m \u001b[1;33m=\u001b[0m \u001b[0mjson_data\u001b[0m\u001b[1;33m[\u001b[0m\u001b[1;34m'documents'\u001b[0m\u001b[1;33m]\u001b[0m\u001b[1;33m\u001b[0m\u001b[1;33m\u001b[0m\u001b[0m\n\u001b[0m\u001b[0;32m     43\u001b[0m \u001b[1;33m\u001b[0m\u001b[0m\n\u001b[0;32m     44\u001b[0m     \u001b[1;32mfor\u001b[0m \u001b[0mi\u001b[0m \u001b[1;32min\u001b[0m \u001b[0mjson_document\u001b[0m\u001b[1;33m:\u001b[0m\u001b[1;33m\u001b[0m\u001b[1;33m\u001b[0m\u001b[0m\n",
      "\u001b[1;31mKeyError\u001b[0m: 'documents'"
     ]
    }
   ],
   "source": [
    "import requests\n",
    "import json\n",
    "\n",
    "api_host = 'https://dapi.kakao.com' #rest api를 요청할 도메인 주소 (다 똑같다.)\n",
    "headers = {'Authorization' : '사용자 키'} #내가 등록한 api 인식용 key header 파일\n",
    "#APICODE 부분에 자신의 REST API 코드를 넣어주시길 바랍니다.\n",
    "\n",
    "def re(path, query, method, data={}): #kakao api는 다 HTTP 프로토콜중 GET 프로토콜만 사용합니다.\n",
    "\n",
    "    url = api_host + path #url을 합치게 만들었습니다.\n",
    "\n",
    "    querys = {'query' : query} #HTTP 프로토콜 형식으로 query 정제\n",
    "    \n",
    "    #확인용\n",
    "    print('HTTP method : %s' % method)\n",
    "    print('Request URL : %s' % url)\n",
    "    print('Headers: %s' % headers)\n",
    "    print('QureryString : %s' % query)\n",
    "\n",
    "    if method == 'GET': #GET 이냐 POST 인가 구분해서 넣어주는 것..  API에 따라 수정해야하지만 사실 GET 메소드 밖에..\n",
    "        return requests.get(url,headers= headers, params=querys)\n",
    "    else:\n",
    "        return  requests.post(url,headers=headers, data=data)\n",
    "\n",
    "print(\"찾아볼 위치 키워드 : \")\n",
    "x = input() #키워드 입력\n",
    "\n",
    "resp = re('/v2/local/search/keyword.json?',x,'GET')\n",
    "\n",
    "print(\"response status: \\n%d\" % resp.status_code)\n",
    "print(\"response header: \\n%s\" % resp.headers)\n",
    "print(\"response body: \\n%s\" % resp.text)\n",
    "\n",
    "#json 파일을 임의로 저장합니다. (json 파일 형식으로 저장했다가 그 파일을 불러와서 사용한다.. 바로 사용하게 만들어도 좋다.)\n",
    "with open('seach.json', 'w') as ww:\n",
    "    ww.write(resp.text)\n",
    "\n",
    "#json 파일을 불러옵니다.\n",
    "with open('seach.json') as json_file:\n",
    "    json_data = json.load(json_file)\n",
    "\n",
    "    json_document = json_data['documents']\n",
    "\n",
    "    for i in json_document:\n",
    "        name = i['place_name']\n",
    "        print(name)\n",
    "\n",
    "        # 지도를 이용해서 위치 찍어주게 만들어 보기\n",
    "        x = float(i['x'])\n",
    "        y = float(i['y'])\n",
    "\n",
    "        print(\"x : %f\" % x)\n",
    "        print(\"y : %f\" % y)\n",
    "\n",
    "        i_map = folium.Map(location=[y, x], zoom_start=15)\n",
    "        folium.Marker([y,x], popup=name).add_to(i_map)\n",
    "\n",
    "        i_map.save('%s_map.html' % name)"
   ]
  },
  {
   "cell_type": "code",
   "execution_count": null,
   "metadata": {},
   "outputs": [],
   "source": []
  }
 ],
 "metadata": {
  "kernelspec": {
   "display_name": "Python 3",
   "language": "python",
   "name": "python3"
  },
  "language_info": {
   "codemirror_mode": {
    "name": "ipython",
    "version": 3
   },
   "file_extension": ".py",
   "mimetype": "text/x-python",
   "name": "python",
   "nbconvert_exporter": "python",
   "pygments_lexer": "ipython3",
   "version": "3.8.3"
  }
 },
 "nbformat": 4,
 "nbformat_minor": 4
}
