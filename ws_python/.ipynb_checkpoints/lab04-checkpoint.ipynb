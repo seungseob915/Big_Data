{
 "cells": [
  {
   "cell_type": "code",
   "execution_count": 35,
   "metadata": {},
   "outputs": [
    {
     "name": "stdout",
     "output_type": "stream",
     "text": [
      "4\n",
      "54\n",
      "105\n",
      "54\n",
      "10년만에 세수감소기조로 전환…5년간 조세지출 15조원 가까이\n",
      "(세종=연합뉴스) 이 율 기자 = government가 내년에 일하는 저소득층 소득지원과\n",
      "자녀양육지원 강화를 위해 근로·자녀장려금으로 4조7천억원을 쏟아붓는다.\n",
      "이에 따라 지원규모는 지난해 1조7천600억원의 2.7배 수준으로 늘어난다.\n",
      "government의 세수입이 전년보다 감소 기조로 전화하는 것은 이명박 government 시절인 2008년 소득세율과 법인세율을 인하한 후 약 10년 만이다.\n",
      "government는 내년에 334만 가구에 근로장려금 3조8천억원을 지급하고\n",
      "111만 가구에 자녀장려금 9천억원을 지급하는 등 이들 양대 항목에서만\n",
      "4조7천억원 규모의 조세지출을 단행할 계획이다.\n",
      "338\n"
     ]
    },
    {
     "data": {
      "text/plain": [
       "'Hello Python'"
      ]
     },
     "execution_count": 35,
     "metadata": {},
     "output_type": "execute_result"
    }
   ],
   "source": [
    "news =\"\"\"10년만에 세수감소기조로 전환…5년간 조세지출 15조원 가까이\n",
    "(세종=연합뉴스) 이 율 기자 = 정부가 내년에 일하는 저소득층 소득지원과\n",
    "자녀양육지원 강화를 위해 근로·자녀장려금으로 4조7천억원을 쏟아붓는다.\n",
    "이에 따라 지원규모는 지난해 1조7천600억원의 2.7배 수준으로 늘어난다.\n",
    "정부의 세수입이 전년보다 감소 기조로 전화하는 것은 이명박 정부 시절인 2008년 소득세율과 법인세율을 인하한 후 약 10년 만이다.\n",
    "정부는 내년에 334만 가구에 근로장려금 3조8천억원을 지급하고\n",
    "111만 가구에 자녀장려금 9천억원을 지급하는 등 이들 양대 항목에서만\n",
    "4조7천억원 규모의 조세지출을 단행할 계획이다.\"\"\"\n",
    "\n",
    "print(news.count(\"정부\"))\n",
    "start_1=news.index(\"정부\")    # 첫번째 정부 위치\n",
    "temp=news[start_1+1:]\n",
    "start_2=temp.index(\"정부\")    # 첫번째 정부 위치\n",
    "temp1=news[start_2+1:]\n",
    "start_3=temp1.index(\"정부\")\n",
    "\n",
    "print(start_1)\n",
    "print(start_2)\n",
    "print(start_3)\n",
    "\n",
    "print(news.replace(\"정부\", \"government\"))\n",
    "print(news.count(\"\"))\n",
    "\n",
    "data = \" Hello Python \"\n",
    "data.upper()\n",
    "data.lower()\n",
    "data.strip()"
   ]
  },
  {
   "cell_type": "code",
   "execution_count": null,
   "metadata": {},
   "outputs": [],
   "source": []
  }
 ],
 "metadata": {
  "kernelspec": {
   "display_name": "Python 3",
   "language": "python",
   "name": "python3"
  },
  "language_info": {
   "codemirror_mode": {
    "name": "ipython",
    "version": 3
   },
   "file_extension": ".py",
   "mimetype": "text/x-python",
   "name": "python",
   "nbconvert_exporter": "python",
   "pygments_lexer": "ipython3",
   "version": "3.8.3"
  }
 },
 "nbformat": 4,
 "nbformat_minor": 4
}
