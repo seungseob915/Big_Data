{
 "cells": [
  {
   "cell_type": "code",
   "execution_count": 15,
   "metadata": {},
   "outputs": [
    {
     "name": "stdout",
     "output_type": "stream",
     "text": [
      "동전으로 교환할 돈은 얼마입니까?7777\n",
      "오백원짜리 : 15개\n",
      "\n",
      "백원짜리 : 2개\n",
      "\n",
      "오십원짜리 : 1개\n",
      "\n",
      "십원짜리 : 2개\n",
      "\n",
      "일원짜리 : 7개\n",
      "\n"
     ]
    }
   ],
   "source": [
    "total=int(input(\"동전으로 교환할 돈은 얼마입니까?\"))\n",
    "\n",
    "ch_list=[500, 100, 50, 10, 1]\n",
    "ch_no=[0, 0, 0, 0, 0]\n",
    "ch_name=[\"오백원\", \"백원\", \"오십원\", \"십원\", \"일원\"]\n",
    "\n",
    "cnt=0\n",
    "\n",
    "for i in range(0, 5):\n",
    "    ch_no[i]=int(total/ch_list[i])  # 갯수 넣고\n",
    "    total=total%ch_list[i]\n",
    "    if(total==0):\n",
    "        break\n",
    "\n",
    "for i in range(0,5):\n",
    "    print(\"{}짜리 : {:d}개\\n\".format(ch_name[i], ch_no[i]))\n",
    "    \n"
   ]
  },
  {
   "cell_type": "code",
   "execution_count": null,
   "metadata": {},
   "outputs": [],
   "source": []
  }
 ],
 "metadata": {
  "kernelspec": {
   "display_name": "Python 3",
   "language": "python",
   "name": "python3"
  },
  "language_info": {
   "codemirror_mode": {
    "name": "ipython",
    "version": 3
   },
   "file_extension": ".py",
   "mimetype": "text/x-python",
   "name": "python",
   "nbconvert_exporter": "python",
   "pygments_lexer": "ipython3",
   "version": "3.8.3"
  }
 },
 "nbformat": 4,
 "nbformat_minor": 4
}
