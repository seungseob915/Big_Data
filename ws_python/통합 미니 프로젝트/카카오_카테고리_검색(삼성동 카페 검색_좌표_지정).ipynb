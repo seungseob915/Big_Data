{
 "cells": [
  {
   "cell_type": "code",
   "execution_count": 80,
   "metadata": {},
   "outputs": [
    {
     "name": "stdout",
     "output_type": "stream",
     "text": [
      "2\n",
      "3\n",
      "4\n",
      "토즈모임센터 삼성점\n",
      "테라로사 코엑스점\n",
      "도라도\n",
      "메이더블유\n",
      "카페인더시티\n",
      "식물원282\n",
      "스템커피 코엑스점\n",
      "스타벅스 스타필드코엑스몰 R점\n",
      "테라로사 포스코센터점\n",
      "토즈모임센터 선릉점\n",
      "스타벅스 삼성역점\n",
      "스타벅스 코엑스사거리점\n",
      "스타벅스 코엑스몰점\n",
      "드코닝 코엑스몰점\n",
      "타이거슈가 삼성로점\n",
      "카페마마스 코엑스점\n",
      "티컵 스타필드 코엑스몰점\n",
      "더앨리 현대백화점 무역점\n",
      "언더프레셔 삼성점\n",
      "빌리엔젤 삼성코엑스몰점\n",
      "폴바셋 코엑스몰점\n",
      "감탄커피\n",
      "로네펠트티하우스 코엑스몰점\n",
      "클로리스티룸 코엑스몰점\n",
      "탐스커버리 아셈타워점\n",
      "사푼사푼 서울대치본점\n",
      "SM타운카페\n",
      "피그인더가든 코엑스점\n",
      "티컬렉티브 삼성점\n",
      "커피빈 삼성봉은사거리점\n",
      "오더에스프레소\n",
      "카페텀블러 청담2호점\n",
      "일커피 삼성점\n",
      "비블레스\n",
      "스타벅스 삼성역섬유센터R점\n",
      "웨이크업커피 3호점\n",
      "마피아디저트 파르나스몰점\n",
      "스타벅스 삼성교점\n",
      "투썸플레이스 삼성역점\n",
      "스타벅스 봉은사역점\n",
      "할리스커피 커피클럽 코엑스점\n",
      "커피빈 삼성봉은사로점\n",
      "아메리칸테이블\n",
      "파스쿠찌 삼성역점\n",
      "투썸플레이스 대치삼성점\n",
      "\n"
     ]
    }
   ],
   "source": [
    "#카카오 api 파싱\n",
    "import urllib.request\n",
    "import requests\n",
    "import json\n",
    "\n",
    "p=1    #page 1~45\n",
    "work=False\n",
    "p_name=''\n",
    "url=\"https://dapi.kakao.com/v2/local/search/category.json?\"\n",
    "\n",
    "while work==False:\n",
    "    queryString={'category_group_code':'CE7', 'x':'127.06283102249932', 'y':'37.514322572335935', 'radius':'20000'}\n",
    "    queryString['page']=p\n",
    "    header={'authorization':\"KakaoAK c2f7af5ee06e05c4c29934e761a9b5c3\"}\n",
    "   \n",
    "    targetURL = requests.get(url, headers=header, params=queryString)    \n",
    "    xmd=json.loads(targetURL.text)                              # json.loads는 json을 파이썬의 리스트, 딕셔너리로 형변환\n",
    "    \n",
    "   # print(xmd['meta'])\n",
    "    if xmd['meta']['is_end']:\n",
    "        work=True\n",
    "# json은 etree 사용 불가\n",
    " #   xmd.keys()\n",
    "    for i in xmd['documents'] :\n",
    "        p_name+=i['place_name']\n",
    "        p_name+='\\n'\n",
    "    p+=1\n",
    "    print(p)\n",
    "    #if p\n",
    "print(p_name)\n"
   ]
  },
  {
   "cell_type": "code",
   "execution_count": null,
   "metadata": {},
   "outputs": [],
   "source": []
  },
  {
   "cell_type": "code",
   "execution_count": null,
   "metadata": {},
   "outputs": [],
   "source": []
  }
 ],
 "metadata": {
  "kernelspec": {
   "display_name": "Python 3",
   "language": "python",
   "name": "python3"
  },
  "language_info": {
   "codemirror_mode": {
    "name": "ipython",
    "version": 3
   },
   "file_extension": ".py",
   "mimetype": "text/x-python",
   "name": "python",
   "nbconvert_exporter": "python",
   "pygments_lexer": "ipython3",
   "version": "3.8.3"
  }
 },
 "nbformat": 4,
 "nbformat_minor": 4
}
