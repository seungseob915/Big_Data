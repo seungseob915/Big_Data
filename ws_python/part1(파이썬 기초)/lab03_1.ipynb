{
 "cells": [
  {
   "cell_type": "code",
   "execution_count": 12,
   "metadata": {},
   "outputs": [
    {
     "name": "stdout",
     "output_type": "stream",
     "text": [
      " TVN JTBC MBC KBS TV조선 채널A \n",
      " tvn jtbc mbc kbs tv조선 채널a \n",
      "2\n",
      "5\n",
      "JTBC mbc Kbs tv조선 채널A \n",
      "tvN JTBC mbc Kbs tv조선 채널A\n",
      " 티브N JTBC mbc Kbs 티브조선 채널A \n",
      "28\n"
     ]
    }
   ],
   "source": [
    "hello=\" tvN JTBC mbc Kbs tv조선 채널A \"\n",
    "\n",
    "print(hello.upper())\n",
    "print(hello.lower())\n",
    "print(hello.count(\"tv\"))\n",
    "print(hello.index(\"JTBC\"))\n",
    "print(hello[hello.index(\"JTBC\"):])\n",
    "print(hello.lstrip())\n",
    "print(hello.replace('tv', '티브'))\n",
    "print(hello.count(''))\n"
   ]
  },
  {
   "cell_type": "code",
   "execution_count": null,
   "metadata": {},
   "outputs": [],
   "source": []
  }
 ],
 "metadata": {
  "kernelspec": {
   "display_name": "Python 3",
   "language": "python",
   "name": "python3"
  },
  "language_info": {
   "codemirror_mode": {
    "name": "ipython",
    "version": 3
   },
   "file_extension": ".py",
   "mimetype": "text/x-python",
   "name": "python",
   "nbconvert_exporter": "python",
   "pygments_lexer": "ipython3",
   "version": "3.8.3"
  }
 },
 "nbformat": 4,
 "nbformat_minor": 4
}
