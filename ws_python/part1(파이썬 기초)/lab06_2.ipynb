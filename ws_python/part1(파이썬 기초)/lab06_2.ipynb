{
 "cells": [
  {
   "cell_type": "code",
   "execution_count": 10,
   "metadata": {},
   "outputs": [
    {
     "name": "stdout",
     "output_type": "stream",
     "text": [
      "5\n",
      "0\n",
      "2\n"
     ]
    }
   ],
   "source": [
    "data = [ \"홍길동\", [90, 100],\n",
    "         \"김영희\", [100,100] ]\n",
    "\n",
    "data.pop(3)    #마지막 요소 삭제\n",
    "\n",
    "data.append(\"제임스\")    #마지막 위치 추가\n",
    "data.append([90, 100])\n",
    "\n",
    "data.append(\"김철수\")    #마지막 위치 추가\n",
    "data.append([90, 90])\n",
    "\n",
    "print(data.index(\"김철수\"))    #해당 단어 인덱스 출력\n",
    "print(data.index(\"홍길동\"))\n",
    "print(data.index(\"김영희\"))"
   ]
  },
  {
   "cell_type": "code",
   "execution_count": null,
   "metadata": {},
   "outputs": [],
   "source": []
  }
 ],
 "metadata": {
  "kernelspec": {
   "display_name": "Python 3",
   "language": "python",
   "name": "python3"
  },
  "language_info": {
   "codemirror_mode": {
    "name": "ipython",
    "version": 3
   },
   "file_extension": ".py",
   "mimetype": "text/x-python",
   "name": "python",
   "nbconvert_exporter": "python",
   "pygments_lexer": "ipython3",
   "version": "3.8.3"
  }
 },
 "nbformat": 4,
 "nbformat_minor": 4
}
