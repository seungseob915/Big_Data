{
 "cells": [
  {
   "cell_type": "code",
   "execution_count": 11,
   "metadata": {},
   "outputs": [
    {
     "name": "stdout",
     "output_type": "stream",
     "text": [
      "50000\n"
     ]
    }
   ],
   "source": [
    "price = { \"피자\" : 10000 ,  \"김치볶음밥\" : 5000, \"짜장면\" : 4500, \"김밥\" : 2000 }\n",
    "order = { \"피자\" : 3 ,  \"김치볶음밥\" : 2,  \"김밥\" : 5 }\n",
    "\n",
    "sum=0\n",
    "\n",
    "sum+=price[\"피자\"] * order[\"피자\"]\n",
    "sum+=price[\"김치볶음밥\"] * order[\"김치볶음밥\"]\n",
    "sum+=price[\"김밥\"] * order[\"김밥\"]\n",
    "\n",
    "print(sum)"
   ]
  },
  {
   "cell_type": "markdown",
   "metadata": {},
   "source": [
    "### 4.\n",
    "### 리스트: 배열(크기 및 내부 데이터 수정 가능)\n",
    "### 딕셔너리: 배열 내 key와 value를 세트로 저장\n",
    "### 투플: 배열(크기 및 내부 데이터 수정 불가능)\n",
    "### set: 중복불가능한 집합"
   ]
  },
  {
   "cell_type": "code",
   "execution_count": null,
   "metadata": {},
   "outputs": [],
   "source": []
  }
 ],
 "metadata": {
  "kernelspec": {
   "display_name": "Python 3",
   "language": "python",
   "name": "python3"
  },
  "language_info": {
   "codemirror_mode": {
    "name": "ipython",
    "version": 3
   },
   "file_extension": ".py",
   "mimetype": "text/x-python",
   "name": "python",
   "nbconvert_exporter": "python",
   "pygments_lexer": "ipython3",
   "version": "3.8.3"
  }
 },
 "nbformat": 4,
 "nbformat_minor": 4
}
