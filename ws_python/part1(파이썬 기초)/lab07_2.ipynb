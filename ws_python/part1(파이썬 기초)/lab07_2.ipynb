{
 "cells": [
  {
   "cell_type": "code",
   "execution_count": 3,
   "metadata": {},
   "outputs": [
    {
     "name": "stdout",
     "output_type": "stream",
     "text": [
      "박승섭\n",
      "서울\n",
      "{'name': '박승섭', 'address': '서울'}\n"
     ]
    }
   ],
   "source": [
    "u_name=input()\n",
    "u_add=input()\n",
    "\n",
    "user={\n",
    "    \"name\" : u_name,\n",
    "    \"address\": u_add\n",
    "}\n",
    "\n",
    "print(user)\n"
   ]
  }
 ],
 "metadata": {
  "kernelspec": {
   "display_name": "Python 3",
   "language": "python",
   "name": "python3"
  },
  "language_info": {
   "codemirror_mode": {
    "name": "ipython",
    "version": 3
   },
   "file_extension": ".py",
   "mimetype": "text/x-python",
   "name": "python",
   "nbconvert_exporter": "python",
   "pygments_lexer": "ipython3",
   "version": "3.8.3"
  }
 },
 "nbformat": 4,
 "nbformat_minor": 4
}
