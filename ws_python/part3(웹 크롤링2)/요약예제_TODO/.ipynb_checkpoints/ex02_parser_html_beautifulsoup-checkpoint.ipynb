{
 "cells": [
  {
   "cell_type": "code",
   "execution_count": 4,
   "metadata": {},
   "outputs": [
    {
     "name": "stdout",
     "output_type": "stream",
     "text": [
      "<html>\n",
      " <head>\n",
      "  <title>\n",
      "   web test\n",
      "  </title>\n",
      " </head>\n",
      " <body>\n",
      "  <p align=\"center\">\n",
      "   text content1\n",
      "  </p>\n",
      "  <img height=\"300\" src=\"c:\\python\\koala.jpg\" width=\"500\"/>\n",
      " </body>\n",
      "</html>\n",
      "\n"
     ]
    }
   ],
   "source": [
    "html =  \"\"\" \n",
    " <html> \n",
    "     <head> \n",
    "        <title> web test  </title> \n",
    "     </head>\n",
    "     <body>  \n",
    "        <p align=\"center\" > text content1 </p> \n",
    "        <img src=\"c:\\python\\koala.jpg\" width=500 height=300 /> \n",
    "     </body> \n",
    " </html> \n",
    "\"\"\"\n",
    "from bs4 import BeautifulSoup\n",
    "bs = BeautifulSoup(html)\n",
    "print( bs.prettify() )    # 들여쓰기를 정리해줌"
   ]
  },
  {
   "cell_type": "code",
   "execution_count": 12,
   "metadata": {
    "scrolled": true
   },
   "outputs": [
    {
     "name": "stdout",
     "output_type": "stream",
     "text": [
      "[<title> web test  </title>]\n",
      "<p align=\"center\"> text content1 </p>\n",
      "<body>\n",
      "<p align=\"center\"> text content1 </p>\n",
      "<img height=\"300\" src=\"c:\\python\\koala.jpg\" width=\"500\"/>\n",
      "</body>\n"
     ]
    }
   ],
   "source": [
    "print (bs.find_all('title'))    # find는 맨 처음 해당하는 1개만 리턴한다. 다찾고 싶으면 findall\n",
    "print (bs.find('p')) \n",
    "print (bs.find('body')) "
   ]
  },
  {
   "cell_type": "code",
   "execution_count": 30,
   "metadata": {},
   "outputs": [],
   "source": [
    "html =  \"\"\" \n",
    "   <html> \n",
    "     <head> \n",
    "        <title> web test  </title> \n",
    "     </head>\n",
    "     <body>  \n",
    "        <p align=\"center\" class=\"test\" > text content1 </p> \n",
    "        <p align=\"left\" > text content2 </p> \n",
    "        <p align=\"right\" > text content3 </p> \n",
    "        <img src=\"c:\\python\\koala.jpg\" width=500 height=300 />  \n",
    "     </body> \n",
    "   </html> \n",
    "    \"\"\"\n",
    "\n",
    "bs = BeautifulSoup(html)"
   ]
  },
  {
   "cell_type": "code",
   "execution_count": 19,
   "metadata": {},
   "outputs": [
    {
     "name": "stdout",
     "output_type": "stream",
     "text": [
      "<p align=\"center\" class=\"test\"> text content1 </p>\n",
      "<p align=\"right\"> text content3 </p>\n",
      "<img height=\"300\" src=\"c:\\python\\koala.jpg\" width=\"500\"/>\n",
      "<img height=\"300\" src=\"c:\\python\\koala.jpg\" width=\"500\"/>\n",
      "<p align=\"center\" class=\"test\"> text content1 </p>\n"
     ]
    }
   ],
   "source": [
    "print (bs.find(\"p\", align=\"center\") )    # find(\"태그 이름\", 속성) , 이름이나 속성으로만 있어도 찾을 수 있다\n",
    "print (bs.find(\"p\", align=\"right\") \n",
    "print (bs.find(\"img\", width=\"500\") )\n",
    "print (bs.find(width=\"500\") )\n",
    "print (bs.find(class_='test') )          # 클래스 속성은 꼭 class_ 언더바를 붙여줘야 함"
   ]
  },
  {
   "cell_type": "code",
   "execution_count": 20,
   "metadata": {},
   "outputs": [
    {
     "name": "stdout",
     "output_type": "stream",
     "text": [
      "[<p align=\"center\" class=\"test\"> text content1 </p>, <p align=\"left\"> text content2 </p>, <p align=\"right\"> text content3 </p>]\n"
     ]
    }
   ],
   "source": [
    "print (  bs.find_all('p') )    # 다찾고 싶으면 find_all"
   ]
  },
  {
   "cell_type": "code",
   "execution_count": 28,
   "metadata": {},
   "outputs": [
    {
     "name": "stdout",
     "output_type": "stream",
     "text": [
      "<head>\n",
      "<title> web test  </title>\n",
      "</head>\n",
      "<title> web test  </title>\n",
      "None\n"
     ]
    }
   ],
   "source": [
    "headtag = bs.find(\"head\")\n",
    "print(headtag)\n",
    "print ( headtag.find(\"title\") ) # <title> web test  </title>\n",
    "print ( headtag.find(\"p\") )     #None"
   ]
  },
  {
   "cell_type": "code",
   "execution_count": 33,
   "metadata": {
    "scrolled": true
   },
   "outputs": [
    {
     "name": "stdout",
     "output_type": "stream",
     "text": [
      "[<p align=\"center\" class=\"test\"> text content1 </p>, <p align=\"left\"> text content2 </p>, <p align=\"right\"> text content3 </p>, <img height=\"300\" src=\"c:\\python\\koala.jpg\" width=\"500\"/>]\n",
      "<p align=\"center\" class=\"test\"> text content1 </p>\n",
      "<p align=\"left\"> text content2 </p>\n",
      "<p align=\"right\"> text content3 </p>\n",
      "<img height=\"300\" src=\"c:\\python\\koala.jpg\" width=\"500\"/>\n"
     ]
    }
   ],
   "source": [
    "bodytag = bs.find(\"body\")\n",
    "list1 = bodytag.find_all(['p', 'img'])\n",
    "\n",
    "print(list1)    # 대괄호로 출력됨\n",
    "\n",
    "for tag in list1 :    #하나씩 출력\n",
    "    print(tag)"
   ]
  },
  {
   "cell_type": "code",
   "execution_count": 34,
   "metadata": {},
   "outputs": [
    {
     "data": {
      "text/plain": [
       "[<p align=\"center\" class=\"test\"> text content1 </p>]"
      ]
     },
     "execution_count": 34,
     "metadata": {},
     "output_type": "execute_result"
    }
   ],
   "source": [
    "bs.find_all(align='center')    # 속성만으로 찾을 수 있다"
   ]
  },
  {
   "cell_type": "code",
   "execution_count": 35,
   "metadata": {},
   "outputs": [
    {
     "name": "stdout",
     "output_type": "stream",
     "text": [
      "\n",
      " text content1 \n",
      " text content2 \n",
      " text content3 \n",
      "\n",
      "\n"
     ]
    }
   ],
   "source": [
    "bodytag = bs.find(\"body\")\n",
    "\n",
    "print(bodytag.get_text())    # 태그 제외하고 텍스트(문자열)만 찾을 때"
   ]
  },
  {
   "cell_type": "code",
   "execution_count": 19,
   "metadata": {},
   "outputs": [
    {
     "name": "stdout",
     "output_type": "stream",
     "text": [
      "text content1text content2text content3\n"
     ]
    }
   ],
   "source": [
    "print(bodytag.get_text(strip=True))    # 텍스트에서 공백 제외하고 출력할 때"
   ]
  },
  {
   "cell_type": "code",
   "execution_count": 20,
   "metadata": {},
   "outputs": [
    {
     "name": "stdout",
     "output_type": "stream",
     "text": [
      "text content1-text content2-text content3\n"
     ]
    }
   ],
   "source": [
    "print(bodytag.get_text('-', strip=True))    # 텍스트에서 공백 제외하고, 구분자를 '-'로 설정할 때"
   ]
  }
 ],
 "metadata": {
  "kernelspec": {
   "display_name": "Python 3",
   "language": "python",
   "name": "python3"
  },
  "language_info": {
   "codemirror_mode": {
    "name": "ipython",
    "version": 3
   },
   "file_extension": ".py",
   "mimetype": "text/x-python",
   "name": "python",
   "nbconvert_exporter": "python",
   "pygments_lexer": "ipython3",
   "version": "3.8.3"
  }
 },
 "nbformat": 4,
 "nbformat_minor": 2
}
