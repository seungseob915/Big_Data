{
 "cells": [
  {
   "cell_type": "code",
   "execution_count": 2,
   "metadata": {},
   "outputs": [
    {
     "name": "stdout",
     "output_type": "stream",
     "text": [
      " \n",
      "종부세 최고세율을 3.2→6.0%로 높이는 안을 담은 ‘고강도’ 부동산 세제안이 내일(10일) 발표될 전망이다. 사진은 서울시내 한 아파트 밀집 지역. /사진=뉴스1 DB종합부동산세 최고세율을 최대 6.0%로 높이는 고강도 부동산대책이 나올 것으로 보인다.9일 더불어민주당과 기획재정부 등에 따르면 당정은 오는 10일 발표하는 부동산대책에 종부세 최고세율을 6.0%로 대폭 높이는 방안을 두고 막판 고심 중이다.당정은 현행 3.2%인 종부세 최고 명목세율을 4.5%·5.0%·6.0%로 높이는 3가지 방안을 놓고 막바지 조율 중인 것으로 전해진다.현행 종부세율은 0.5~3.2%로 기본공제는 다주택자 6억원이다. 정부는 지난해 12·16 대책에서 종부세율을 0.6~4.0% 높이기로 했지만 지난 20대 국회에서 법안 통과가 무산됐다.그동안 집값이 잡히지 않고 전월세 가격마저 급등하며 민심이 들끓자 종부세 최고세율을 급격히 높이는 특단의 대책을 꺼내든 것으로 풀이된다.종부세와 재산세 등 우리나라의 보유세 실효세율은 경제협력개발기구(OECD) 평균의 절반이 안 되는 수준으로 알려져 있다. 종부세 강화 논의가 이전부터 계속 화두에 오른 것도 이 때문이다.현재 당정은 과세표준 기준선을 낮추거나 새로운 과세표준을 신설하는 등 실효세율을 높이기 위한 다양한 방법을 검토 중이다.기본공제를 6억원에서 3억원으로 대폭 축소하는 방안을 포함, 종부세 공제 제도 전반을 손질할 방침으로 전해진다. 투기성 주택보유 근절을 위해 1~2년 단기보유 매매에 대한 양도소득세 부담을 대폭 늘리는 방안도 검토 중이다.이 같은 방안은 모두 종부세 개정안과 소득세법 개정안 등 당정이 내일 발표하는 부동산대책에 포함될 것이 유력시된다.김태년 민주당 원내대표는 “다주택자와 투기성 주택보유자에 대한 종합부동산세 대폭 강화 입법을 7월 국회서 우선 처리하겠다”고 말했다. 이어 “부동산 문제를 최대 당면 현안으로 인식하고 비상한 각오로 당의 모든 정책 역량을 집중할 것”이라고 강조했다.김창성 기자 solrali@mt.co.kr▶ 고수들의 재테크 비법 영상▶거품 뺀 솔직 시승기 ▶ 코로나19 속보 <저작권자 ⓒ '성공을 꿈꾸는 사람들의 경제 뉴스' 머니S, 무단전재 및 재배포 금지>머니S 관련뉴스해당 언론사에서 선정하며 언론사 페이지(아웃링크)로 이동해 볼 수 있습니다.'개XX' 매니저 갑질 의혹 신현준, 공식입장 보니…김승현 가족 '살림남2' 하차하는 이유가?변질된 갈비 소주로 씻어 판매한 유명 프랜차이즈 어디?뷔, 신기록에 세계가 '깜놀'… 아델 꺾었다김도연, '찐' 모델 포스 비하인드 화보 '헉'\n"
     ]
    }
   ],
   "source": [
    "from selenium import webdriver \n",
    "from bs4 import BeautifulSoup\n",
    "\n",
    "driver = webdriver.Chrome(\"driver/chromedriver\")\n",
    "url =\"https://land.naver.com/\" \n",
    "driver.get(url) \n",
    "        \n",
    "path=\"\"\"//*[@id=\"content\"]/div[1]/div[1]/div[1]/h3/a\"\"\"\n",
    "driver.find_element_by_xpath(path).click() \n",
    "\n",
    "html = driver.page_source  \n",
    "bs = BeautifulSoup(html) \n",
    "news = bs.find_all(id=\"articleBody\")\n",
    "for i in news : \n",
    "    print ( i.get_text() ) "
   ]
  },
  {
   "cell_type": "code",
   "execution_count": null,
   "metadata": {},
   "outputs": [],
   "source": []
  }
 ],
 "metadata": {
  "kernelspec": {
   "display_name": "Python 3",
   "language": "python",
   "name": "python3"
  },
  "language_info": {
   "codemirror_mode": {
    "name": "ipython",
    "version": 3
   },
   "file_extension": ".py",
   "mimetype": "text/x-python",
   "name": "python",
   "nbconvert_exporter": "python",
   "pygments_lexer": "ipython3",
   "version": "3.8.3"
  }
 },
 "nbformat": 4,
 "nbformat_minor": 2
}
