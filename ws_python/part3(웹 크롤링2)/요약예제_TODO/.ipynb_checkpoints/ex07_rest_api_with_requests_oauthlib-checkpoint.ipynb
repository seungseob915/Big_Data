{
 "cells": [
  {
   "cell_type": "code",
   "execution_count": 1,
   "metadata": {},
   "outputs": [],
   "source": [
    "import os\n",
    "from requests_oauthlib import OAuth1Session\n",
    "\n",
    "# 트위터 개발자 등록(교재 참고) 후 발급받은 4개의 키를 아래에 등록한다. \n",
    "CONSUMER_KEY = \"rN0x8fTM8e9zbEDkNH6AjZQKt\"   #os.environ['CONSUMER_KEY']\n",
    "CONSUMER_SECRET = \"tHyIlZ8o69zGsYqfdvt1SJRBW2jV3zdrAQnr1ZZxWha1M4gwdZ\" #os.environ['CONSUMER_SECRET']\n",
    "ACCESS_TOKEN = \"169037907-ERkO1HMx5Vtf7I7v1BTvGXhbMgg2qxp6IZkPK13d\" #os.environ['ACCESS_TOKEN']\n",
    "ACCESS_TOKEN_SECRET = \"P7OSPYrrdv9zZmRDwMUFhF4nPxtvADnSnU9zbXPBBQkzw\" #os.environ['ACCESS_TOKEN_SECRET']"
   ]
  },
  {
   "cell_type": "code",
   "execution_count": 2,
   "metadata": {},
   "outputs": [
    {
     "name": "stdout",
     "output_type": "stream",
     "text": [
      "@zdnetkorea 전자책 구매 후 열람 안 하면 7일 내 전액 환불 https://t.co/NwATqRZd27 https://t.co/9t1YYLU6eF\n",
      "@liebe384 호세쿠엘보😊\n",
      "쿠엘보 스퀴즈를 넘나 마시고 싶은디 집에서 만들수가 읍서서...\n",
      "비가 오지만 뛰쳐나왔다.\n",
      "담번엔 맹글어 마셔야지😄 https://t.co/btsMpc5he5\n",
      "@leesanghoC 안진걸 소장 펌\n",
      "\n",
      "https://t.co/sI1VLbRcBG\n",
      "미통당 윤희숙씨의 대국민 사기극과 거짓말, 국민들 중 45%나 되는 세입자들 고통 외면을 고발하고, 서민 주거안정ㆍ주거비부담 완화및국민경제의 균형… https://t.co/ZdJNkWC0tU\n",
      "@zdnetkorea \"알뜰폰, 더 싸고 편하게 산다”…정부, 알뜰폰 활성화 추진 https://t.co/YK6d8D52Zs https://t.co/PqsxHR8XUC\n",
      "@zdnetkorea 빌게이츠 \"MS의 틱톡 인수는 독이 든 성배” https://t.co/cgqFVsunaU https://t.co/hYSpJZMuCG\n",
      "@zdnetkorea 정부, '공공 그린리모델링' 민간전문가 그룹 선정 https://t.co/NyHPCWEb49 https://t.co/vCRQfXdm5k\n",
      "@zdnetkorea 기업 10곳 중 4곳 \"코로나發 신규채용 축소\" https://t.co/doozaJcoHI https://t.co/5JEHOiEDLO\n",
      "@zdnetkorea 정부, 전기차 보조금 지급체계 개편 나선다 https://t.co/pRkalWY0Cv https://t.co/he4dARZTmB\n",
      "@zdnetkorea \"주요국 10대 기업, 6년 초과 장기재직 사외이사 비중高\" https://t.co/I7Y82HCdrO https://t.co/gyOKpE9LVd\n",
      "@zdnetkorea 대학원서 그린뉴딜 전문 인력 키운다 https://t.co/fuhXus01Tk\n",
      "@animalkorea [#책추천] 울지 마, 동물들아!\n",
      "오은정 작가의 &lt;울지마, 동물들아!&gt;는 우리가 잘 모르고 동물을 마주했던 순간, 일상에서 미처 생각하지 못했던 부분들에 대해 말합니다.\n",
      "이 여름, 생명 감수성을 키워줄\n",
      "&lt;울… https://t.co/A0jEBtR0OF\n",
      "@zdnetkorea 신창재 교보생명 회장 \"양손잡이 경영으로 위기 돌파\" https://t.co/gUtRUcYenh https://t.co/hnX1iMKlNi\n",
      "@zdnetkorea 스마일게이트 에픽세븐, 새 영웅 추가로 매출 반등 시도 https://t.co/Lg3b7xAZbj https://t.co/5267hlD497\n",
      "@zdnetkorea K-DA, 솔트룩스 등 19곳과 4차 참여기업 협정식 https://t.co/VrAsGNU99A https://t.co/HdKQNSBBge\n",
      "@zdnetkorea 이베이코리아, 스마일배송제주도까지 확대…\"익일배송 가능\" https://t.co/q9usVPtQLi https://t.co/btAGJuJcGM\n",
      "@zdnetkorea [쇼미더웹툰2] 무너진 학교, 극한 상황 속 왕따의 시선 '유쾌한 왕따' https://t.co/7wpebmO1x8 https://t.co/4vWllLqtUM\n",
      "@zdnetkorea LG전자 로봇, 호텔 실외로 음식 나른다 https://t.co/jIM6nEUHfw https://t.co/GNH5vEIIvf\n",
      "@zdnetkorea KT \"음악 콘텐츠 IPTV서 한눈에 보세요” https://t.co/5z9dFtVzgc https://t.co/lBBC7w2vlv\n",
      "@zdnetkorea 삼성, 갤노트20 체험 공간 '갤럭시 스튜디오' 오픈 https://t.co/CF3Ku1oyHr https://t.co/6mszTmUnvx\n",
      "@zdnetkorea [조재환의 EV세상] 또 발생한 코나 전기차 화재...재발방지대책 없나 https://t.co/ruSEcDLa2t https://t.co/73yivkBNFX\n"
     ]
    }
   ],
   "source": [
    "# 인증 정보를 사용해 OAuth1Session 객체를 생성합니다.\n",
    "twitter = OAuth1Session(CONSUMER_KEY,\n",
    "                        client_secret=CONSUMER_SECRET,\n",
    "                        resource_owner_key=ACCESS_TOKEN,\n",
    "                        resource_owner_secret=ACCESS_TOKEN_SECRET)\n",
    "\n",
    "# 사용자의 타임라인을 추출합니다.\n",
    "response = twitter.get('https://api.twitter.com/1.1/statuses/home_timeline.json')\n",
    "\n",
    "# API 응답이 JSON 형식의 문자열이므로 response.json()으로 파싱합니다.\n",
    "# status는 트윗(Twitter API에서는 Status라고 부릅니다)를 나타내는 dict입니다.\n",
    "for status in response.json():\n",
    "    # 사용자 이름과 트윗을 출력합니다.\n",
    "    print('@' + status['user']['screen_name'], status['text'])"
   ]
  },
  {
   "cell_type": "code",
   "execution_count": null,
   "metadata": {},
   "outputs": [],
   "source": []
  }
 ],
 "metadata": {
  "kernelspec": {
   "display_name": "Python 3",
   "language": "python",
   "name": "python3"
  },
  "language_info": {
   "codemirror_mode": {
    "name": "ipython",
    "version": 3
   },
   "file_extension": ".py",
   "mimetype": "text/x-python",
   "name": "python",
   "nbconvert_exporter": "python",
   "pygments_lexer": "ipython3",
   "version": "3.8.3"
  }
 },
 "nbformat": 4,
 "nbformat_minor": 2
}
