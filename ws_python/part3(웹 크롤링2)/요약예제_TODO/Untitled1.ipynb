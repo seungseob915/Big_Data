{
 "cells": [
  {
   "cell_type": "code",
   "execution_count": 9,
   "metadata": {},
   "outputs": [
    {
     "name": "stdout",
     "output_type": "stream",
     "text": [
      "<?xml version=\"1.0\" encoding=\"UTF-8\"?><rss version=\"2.0\"><channel><title>Naver Open API - news ::'스타벅스'</title><link>https://search.naver.com</link><description>Naver Search Result</description><lastBuildDate>Tue, 11 Aug 2020 09:18:24 +0900</lastBuildDate><total>348574</total><start>1</start><display>1</display><item><title>티몬 티비온, &apos;쑈트리트 파이터&apos;…이연복·나르샤 등 출연</title><originallink>http://www.edaily.co.kr/news/newspath.asp?newsid=01902406625866336</originallink><link>https://news.naver.com/main/read.nhn?mode=LSD&amp;mid=sec&amp;sid1=101&amp;oid=018&amp;aid=0004711181</link><description>방송 중 구매 고객에게 마카롱케이스와 &lt;b&gt;스타벅스&lt;/b&gt; 기프티콘을 제공한다. 포토후기 작성 고객에게는 신세계 상품권(1만원)을 증정한다. 구매 고객 대상으로 BHC 기프티콘 증정 이벤트도 진행할 예정이다. 방송인... </description><pubDate>Tue, 11 Aug 2020 09:17:00 +0900</pubDate></item></channel></rss>\n"
     ]
    }
   ],
   "source": [
    "# 네이버 검색 API예제는 블로그를 비롯 전문자료까지 호출방법이 동일하므로 blog검색만 대표로 예제를 올렸습니다.\n",
    "# 네이버 검색 Open API 예제 - 블로그 검색\n",
    "import os\n",
    "import sys\n",
    "import urllib.request\n",
    "client_id = \"W21JlGTkb63rygCRE0bI\"\n",
    "client_secret = \"P1ShtypGJu\"\n",
    "encText = urllib.parse.quote(\"스타벅스\")\n",
    "url = \"https://openapi.naver.com/v1/search/news.xml?query=\" + encText + \"&display=1\" # json 결과\n",
    "# url = \"https://openapi.naver.com/v1/search/blog.xml?query=\" + encText # xml 결과\n",
    "request = urllib.request.Request(url)\n",
    "request.add_header(\"X-Naver-Client-Id\",client_id)\n",
    "request.add_header(\"X-Naver-Client-Secret\",client_secret)\n",
    "response = urllib.request.urlopen(request)\n",
    "rescode = response.getcode()\n",
    "if(rescode==200):\n",
    "    response_body = response.read()\n",
    "    print(response_body.decode('utf-8'))\n",
    "else:\n",
    "    print(\"Error Code:\" + rescode)"
   ]
  },
  {
   "cell_type": "code",
   "execution_count": null,
   "metadata": {},
   "outputs": [],
   "source": []
  }
 ],
 "metadata": {
  "kernelspec": {
   "display_name": "Python 3",
   "language": "python",
   "name": "python3"
  },
  "language_info": {
   "codemirror_mode": {
    "name": "ipython",
    "version": 3
   },
   "file_extension": ".py",
   "mimetype": "text/x-python",
   "name": "python",
   "nbconvert_exporter": "python",
   "pygments_lexer": "ipython3",
   "version": "3.8.3"
  }
 },
 "nbformat": 4,
 "nbformat_minor": 4
}
