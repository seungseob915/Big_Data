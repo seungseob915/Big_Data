{
 "cells": [
  {
   "cell_type": "code",
   "execution_count": 1,
   "metadata": {},
   "outputs": [
    {
     "name": "stdout",
     "output_type": "stream",
     "text": [
      "2020-06-25 00:00 21 26 흐리고 비\n",
      "2020-06-25 12:00 21 26 흐리고 비\n",
      "2020-06-26 00:00 21 29 흐리고 비\n"
     ]
    }
   ],
   "source": [
    "# ElementTree 모듈을 로드\n",
    "from xml.etree import ElementTree\n",
    "\n",
    "# parse() 함수로 파일을 읽고 ElementTree 객체를 생성\n",
    "tree = ElementTree.parse('rss.xml')\n",
    "\n",
    "# getroot() 메서드로 XML의 루트 element를 추출\n",
    "root = tree.getroot()\n",
    "\n",
    "# findall() 메서드로 요소 목록을 추출\n",
    "# 태그를 검색(RSS 파일 참고)\n",
    "for item in root.findall('channel/item/description/body/location/data'):\n",
    "#     print(item.text)\n",
    "    # find() 메서드로 element 탐색, text 속성으로 값을 추출\n",
    "    tm_ef = item.find('tmEf').text\n",
    "    tmn = item.find('tmn').text\n",
    "    tmx = item.find('tmx').text\n",
    "    wf = item.find('wf').text\n",
    "    print(tm_ef, tmn, tmx, wf) "
   ]
  },
  {
   "cell_type": "code",
   "execution_count": null,
   "metadata": {},
   "outputs": [],
   "source": []
  }
 ],
 "metadata": {
  "kernelspec": {
   "display_name": "Python 3",
   "language": "python",
   "name": "python3"
  },
  "language_info": {
   "codemirror_mode": {
    "name": "ipython",
    "version": 3
   },
   "file_extension": ".py",
   "mimetype": "text/x-python",
   "name": "python",
   "nbconvert_exporter": "python",
   "pygments_lexer": "ipython3",
   "version": "3.8.3"
  }
 },
 "nbformat": 4,
 "nbformat_minor": 2
}
