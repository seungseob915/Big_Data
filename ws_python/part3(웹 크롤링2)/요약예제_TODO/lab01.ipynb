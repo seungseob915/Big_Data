{
 "cells": [
  {
   "cell_type": "code",
   "execution_count": 4,
   "metadata": {},
   "outputs": [
    {
     "name": "stdout",
     "output_type": "stream",
     "text": [
      "점프 투 파이썬\n",
      "파이썬으로 배우는 알고리즘 트레이딩 (4쇄)\n",
      "점프 투 자바\n",
      "왕초보를 위한 Python 2.7\n",
      "딥 러닝을 이용한 자연어 처리 입문\n",
      "라즈베리 파이 문서\n",
      "PyQt5 Tutorial : 파이썬으로 만드는 나만의 GUI 프로그램\n",
      "Ext JS 6 가이드\n",
      "Ext JS 5 가이드\n",
      "WikibooksHaskell\n"
     ]
    }
   ],
   "source": [
    "import urllib.request \n",
    "from bs4 import BeautifulSoup\n",
    "\n",
    "d = urllib.request.urlopen(\"https://wikidocs.net/\") \n",
    "if  d.status==200 :  \n",
    "    data = d.read().decode(\"utf-8\") \n",
    "    bs = BeautifulSoup(data)\n",
    "    bookTitles = bs.find_all(class_=\"book-subject\")\n",
    "    for i in bookTitles:\n",
    "        print(i.get_text())"
   ]
  },
  {
   "cell_type": "code",
   "execution_count": null,
   "metadata": {},
   "outputs": [],
   "source": []
  }
 ],
 "metadata": {
  "kernelspec": {
   "display_name": "Python 3",
   "language": "python",
   "name": "python3"
  },
  "language_info": {
   "codemirror_mode": {
    "name": "ipython",
    "version": 3
   },
   "file_extension": ".py",
   "mimetype": "text/x-python",
   "name": "python",
   "nbconvert_exporter": "python",
   "pygments_lexer": "ipython3",
   "version": "3.6.7"
  }
 },
 "nbformat": 4,
 "nbformat_minor": 2
}
