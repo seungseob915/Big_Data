{
 "cells": [
  {
   "cell_type": "code",
   "execution_count": 1,
   "metadata": {},
   "outputs": [
    {
     "name": "stdout",
     "output_type": "stream",
     "text": [
      "Collecting requests_oauthlib\n",
      "  Downloading requests_oauthlib-1.3.0-py2.py3-none-any.whl (23 kB)\n",
      "Requirement already satisfied: requests>=2.0.0 in c:\\programdata\\anaconda3\\lib\\site-packages (from requests_oauthlib) (2.24.0)\n",
      "Collecting oauthlib>=3.0.0\n",
      "  Downloading oauthlib-3.1.0-py2.py3-none-any.whl (147 kB)\n",
      "Requirement already satisfied: certifi>=2017.4.17 in c:\\programdata\\anaconda3\\lib\\site-packages (from requests>=2.0.0->requests_oauthlib) (2020.6.20)\n",
      "Requirement already satisfied: idna<3,>=2.5 in c:\\programdata\\anaconda3\\lib\\site-packages (from requests>=2.0.0->requests_oauthlib) (2.10)\n",
      "Requirement already satisfied: urllib3!=1.25.0,!=1.25.1,<1.26,>=1.21.1 in c:\\programdata\\anaconda3\\lib\\site-packages (from requests>=2.0.0->requests_oauthlib) (1.25.9)\n",
      "Requirement already satisfied: chardet<4,>=3.0.2 in c:\\programdata\\anaconda3\\lib\\site-packages (from requests>=2.0.0->requests_oauthlib) (3.0.4)\n",
      "Installing collected packages: oauthlib, requests-oauthlib\n",
      "Successfully installed oauthlib-3.1.0 requests-oauthlib-1.3.0\n",
      "Note: you may need to restart the kernel to use updated packages.\n"
     ]
    }
   ],
   "source": [
    "pip install requests_oauthlib"
   ]
  },
  {
   "cell_type": "code",
   "execution_count": 2,
   "metadata": {},
   "outputs": [],
   "source": [
    "import os\n",
    "from requests_oauthlib import OAuth1Session\n",
    "\n",
    "# 트위터 개발자 등록(교재 참고) 후 발급받은 4개의 키를 아래에 등록한다. \n",
    "CONSUMER_KEY = \"rN0x8fTM8e9zbEDkNH6AjZQKt\"   #os.environ['CONSUMER_KEY']\n",
    "CONSUMER_SECRET = \"tHyIlZ8o69zGsYqfdvt1SJRBW2jV3zdrAQnr1ZZxWha1M4gwdZ\" #os.environ['CONSUMER_SECRET']\n",
    "ACCESS_TOKEN = \"169037907-ERkO1HMx5Vtf7I7v1BTvGXhbMgg2qxp6IZkPK13d\" #os.environ['ACCESS_TOKEN']\n",
    "ACCESS_TOKEN_SECRET = \"P7OSPYrrdv9zZmRDwMUFhF4nPxtvADnSnU9zbXPBBQkzw\" #os.environ['ACCESS_TOKEN_SECRET']"
   ]
  },
  {
   "cell_type": "code",
   "execution_count": 3,
   "metadata": {},
   "outputs": [
    {
     "name": "stdout",
     "output_type": "stream",
     "text": [
      "@BillGates Bill Foege was instrumental in the effort to eradicate smallpox (and is a personal hero of mine). Here he outlines… https://t.co/wW50rer8nV\n",
      "@zdnetkorea \"집중호우 피해 극복하자\"…재계, 팔 걷어붙였다 https://t.co/4Fe7cJ6uGV https://t.co/Jq2FkNRQhk\n",
      "@zdnetkorea MS·애플, 구독형 게임시장서도 경쟁한다 https://t.co/O4VJmMex7g https://t.co/gk3C8YP9d2\n",
      "@zdnetkorea 스포츠 베팅 게임 시장 열려...엠게임-넵튠-NHN 준비 https://t.co/0xvkLIsJNi\n",
      "@zdnetkorea 비대면으로 알뜰폰 유심 5분 안에 개통 https://t.co/qbuK3v7Iu4 https://t.co/YJAGseFdyg\n",
      "@cheolsoo0919 7. 전 세계적으로 포스트 코로나 대전환의 시대에 걸맞은 새로운 사고와 인식, 정책적 상상력과 실행능력, 그리고 정치의 기능과 역할에 대한 일대 혁신이 요구되는 시점입니다.\n",
      "국민의당은 국민안전을 위한 근본적… https://t.co/gjpbssuVvr\n",
      "@cheolsoo0919 6. 셋째, 전국을 뒤덮어가고 있는 태양광발전시설과 이번 산사태 등 수해와의 연관성에 대해서 감사원 감사를 바로 실시해야 합니다.\n",
      "지금 계획되어 있는 태양광시설설치는 전면 보류하고,\n",
      "이번 달 예정된 국회 결… https://t.co/dY1gbectI3\n",
      "@cheolsoo0919 5. 둘째, 정부는 수해 지역에서 코로나19와 기타 수인성 전염병의 방역에 만전을 기해 주기 바랍니다.\n",
      "수해직후에 전염병이 창궐할 수 있습니다.\n",
      "재난피해복구현장과 이재민 수용장소를 비롯하여 규모 있는 인력의… https://t.co/NP7NTp7KOk\n",
      "@cheolsoo0919 4. 재난 추경에 대해 정부 여당은 재정고갈로 난색을 표하고 있습니다.\n",
      "제가 지난 총선때 인기영합적 전국민 재난지원금이 아니라\n",
      "코로나19로 직격탄을 맞은 사람들에게 우선 주자고 주장했던 이유입니다\n",
      "미래의 재… https://t.co/auntzqMDGz\n",
      "@cheolsoo0919 3. 문재인 대통령과 정부 여당에 요구합니다.\n",
      "\n",
      "첫째, 정부는 15년째 100만원으로 묶여있는 수해지원금 규모를 현실화하고,\n",
      "긴급 생활지원과 금융 지원 등 특단의 대책을 세워야 합니다.\n",
      "재해는 정부가 생각하… https://t.co/lVGoIII7Hr\n",
      "@cheolsoo0919 2. 그리고 한걸음 더 나가야 합니다.\n",
      "피해가 커진 원인은 무엇이고, 책임자는 누구인지 철저히 규명해 재발 방지를 위한 근본적 대책을 세워야 합니다.\n",
      "또한 전국적인 실태 조사를 통해 국가재난재해대책의 큰 그… https://t.co/yl9LQbf1fX\n",
      "@animalkorea 각양각생 개성 가득한 외모와 구수한(?) 이름을 가진 귀여운 영이, 순이, 진순이의 가족이 되어주세요!\n",
      "\n",
      "🌺입양문의🌺\n",
      "마을고양이연대 010-8615-0523 https://t.co/dk2Pp3QdP3\n",
      "@animalkorea 나이도 비슷하고 발견된 장소도 비슷한 어린 세 마리의 고양이들은 서로 의지하며 무럭무럭 자라고 있어요.🤸‍♀️🤸‍♂️\n",
      "\n",
      "구조 당시 먼지 가득했던 얼굴은 금새 깨끗해졌고 기본검사도 무사히 통과한 귀여운 개냥이… https://t.co/P07D5iIm24\n",
      "@animalkorea 어미 고양이는 어디로 갔는지 보이지 않았고, 철거는 계속해서 진행되고 있어 그대로 둔다면 스스로 탈출하지 못하고 깔려 죽을지도 모르는 상황. 그렇게 세 마리는 구조되어 캣맘들이 운영하는 쉼터로 입소했습니다. https://t.co/KXoyrXuUCR\n",
      "@animalkorea [사랑의 재개발] 재개발 지역에서 발견된 고양이들의 가족이 되어주세요!\n",
      "\n",
      "철거가 한창 진행되고 있는 수원의 재개발 지역에서 구조된 세 마리의 고양이 영이, 순이, 진성이. 두 마리는 철거 직전의 건물에서 먼… https://t.co/52CloIJo2q\n",
      "@cheolsoo0919 1. 이번 수해는 국가적 재난 상황입니다.\n",
      "저는 이미 본예산 세출항목 조정 등을 포함한 재해추경 편성이 필요할 것이라고 말씀드렸습니다.\n",
      "정부는 특단의 대책을 마련하고 정치권에 협력을 요청해야 합니다.\n",
      "국민의… https://t.co/PCxE1pvFuB\n",
      "@cheolsoo0919 3. 권력을 휘두른다고 세상일이 뜻대로 되지 않습니다.\n",
      "윤석열총장의 손발을 잘라도 정권의 황혼을 막을 수 없습니다.\n",
      "국회를 무용지물로 만들어도 달님의 몰락을 막을 수 없고 별님의 추함도 감출 수 없습니다\n",
      "그… https://t.co/JTIgl11bgV\n",
      "@zdnetkorea 접는 스마트폰 MS 서피스 듀오…이번 달 나올까 https://t.co/vVRqeLIfU2 https://t.co/cScQzBzL3R\n"
     ]
    }
   ],
   "source": [
    "# 인증 정보를 사용해 OAuth1Session 객체를 생성합니다.\n",
    "twitter = OAuth1Session(CONSUMER_KEY,\n",
    "                        client_secret=CONSUMER_SECRET,\n",
    "                        resource_owner_key=ACCESS_TOKEN,\n",
    "                        resource_owner_secret=ACCESS_TOKEN_SECRET)\n",
    "\n",
    "# 사용자의 타임라인을 추출합니다.\n",
    "response = twitter.get('https://api.twitter.com/1.1/statuses/home_timeline.json')\n",
    "\n",
    "# API 응답이 JSON 형식의 문자열이므로 response.json()으로 파싱합니다.\n",
    "# status는 트윗(Twitter API에서는 Status라고 부릅니다)를 나타내는 dict입니다.\n",
    "for status in response.json():\n",
    "    # 사용자 이름과 트윗을 출력합니다.\n",
    "    print('@' + status['user']['screen_name'], status['text'])"
   ]
  },
  {
   "cell_type": "code",
   "execution_count": null,
   "metadata": {},
   "outputs": [],
   "source": []
  }
 ],
 "metadata": {
  "kernelspec": {
   "display_name": "Python 3",
   "language": "python",
   "name": "python3"
  },
  "language_info": {
   "codemirror_mode": {
    "name": "ipython",
    "version": 3
   },
   "file_extension": ".py",
   "mimetype": "text/x-python",
   "name": "python",
   "nbconvert_exporter": "python",
   "pygments_lexer": "ipython3",
   "version": "3.8.3"
  }
 },
 "nbformat": 4,
 "nbformat_minor": 2
}
